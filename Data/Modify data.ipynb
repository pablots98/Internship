{
 "cells": [
  {
   "cell_type": "code",
   "execution_count": 1,
   "metadata": {},
   "outputs": [],
   "source": [
    "import pandas as pd"
   ]
  },
  {
   "cell_type": "markdown",
   "metadata": {},
   "source": [
    "Code to modify the data strucure"
   ]
  },
  {
   "cell_type": "code",
   "execution_count": 4,
   "metadata": {},
   "outputs": [],
   "source": [
    "data = pd.read_excel('Mod_data.xlsx')"
   ]
  },
  {
   "cell_type": "markdown",
   "metadata": {},
   "source": [
    "Now I join all the samples with similar names"
   ]
  },
  {
   "cell_type": "code",
   "execution_count": 16,
   "metadata": {},
   "outputs": [
    {
     "name": "stdout",
     "output_type": "stream",
     "text": [
      "        BJ_OLD_1   BJ_OLD_2   BJ_OLD_3      BJ_Y1      BJ_Y2      BJ_Y3  \\\n",
      "0      10.046032   9.498660   9.942863   6.493412   6.718589   7.194639   \n",
      "1       0.000000   0.000000   0.000000   0.000000   0.000000   0.000000   \n",
      "2      22.606870  23.437994  23.128532  24.241993  21.269339  24.648886   \n",
      "3       2.055618   2.393879   2.243007   2.415402   2.404804   2.452969   \n",
      "4       0.992425   1.044879   1.054844   1.973566   2.003525   2.205203   \n",
      "...          ...        ...        ...        ...        ...        ...   \n",
      "26264   0.000000   0.000000   0.000000   0.000000   0.000000   0.000000   \n",
      "26265   0.000000   0.014829   0.000000   0.016855   0.012034   0.014576   \n",
      "26266   1.349822   1.279487   1.351306   1.297677   1.469679   1.315740   \n",
      "26267   0.000000   0.000000   0.000000   0.000000   0.000000   0.000000   \n",
      "26268   0.203796   0.212990   0.482650   0.290507   0.253515   0.523405   \n",
      "\n",
      "        Ensembl_GeneID  HFF_PD16_1  HFF_PD16_2  HFF_PD16_3  ...  MRC_5_PD62_3  \\\n",
      "0      ENSG00000000003    7.089259    7.511599    7.417520  ...     10.986062   \n",
      "1      ENSG00000000005    0.000000    0.000000    0.000000  ...      0.000000   \n",
      "2      ENSG00000000419   30.945110   32.943845   32.078450  ...     29.918732   \n",
      "3      ENSG00000000457    2.163571    2.159233    2.207433  ...      2.355150   \n",
      "4      ENSG00000000460    1.575386    1.503739    1.582547  ...      0.575477   \n",
      "...                ...         ...         ...         ...  ...           ...   \n",
      "26264  ENSG00000261806    0.000000    0.000000    0.000000  ...      0.000000   \n",
      "26265  ENSG00000261807    0.015128    0.024431    0.010148  ...      0.022981   \n",
      "26266  ENSG00000261824    1.044214    1.219381    1.185409  ...      2.450602   \n",
      "26267  ENSG00000261832    0.000000    0.000000    0.000000  ...      0.000000   \n",
      "26268  ENSG00000261840    0.608389    0.477230    0.524717  ...      0.308071   \n",
      "\n",
      "       MRC_5_PD72_1  MRC_5_PD72_2  MRC_5_PD72_3   WI_38_O1   WI_38_O2  \\\n",
      "0         13.418254     15.246198     17.039765  21.693286  23.469466   \n",
      "1          0.000000      0.000000      0.000000   0.000000   0.000000   \n",
      "2         23.921623     24.976182     27.208870  39.292572  45.036044   \n",
      "3          2.262529      2.184790      2.214974   1.701752   2.209302   \n",
      "4          0.654428      0.591824      0.579323   0.581485   0.685172   \n",
      "...             ...           ...           ...        ...        ...   \n",
      "26264      0.000000      0.000000      0.000000   0.000000   0.000000   \n",
      "26265      0.000000      0.019038      0.034031   0.013799   0.004657   \n",
      "26266      0.838354      0.770791      0.929290   1.453186   1.458778   \n",
      "26267      0.000000      0.000000      0.000000   0.000000   0.000000   \n",
      "26268      0.229974      0.437516      0.418964   0.449252   0.294284   \n",
      "\n",
      "        WI_38_O3   WI_38_Y1   WI_38_Y2   WI_38_Y3  \n",
      "0      23.632602   8.710911   8.261188   8.644285  \n",
      "1       0.000000   0.000000   0.000000   0.000000  \n",
      "2      46.882739  34.935589  33.726015  35.169965  \n",
      "3       1.749210   1.887699   1.911808   2.168640  \n",
      "4       0.707340   2.144436   2.105318   2.088961  \n",
      "...          ...        ...        ...        ...  \n",
      "26264   0.000000   0.000000   0.000000   0.000000  \n",
      "26265   0.026875   0.008164   0.015431   0.012293  \n",
      "26266   1.441257   1.192047   1.037838   1.272760  \n",
      "26267   0.000000   0.000000   0.000000   0.000000  \n",
      "26268   0.524972   0.469027   0.295518   0.353117  \n",
      "\n",
      "[26269 rows x 49 columns]\n"
     ]
    }
   ],
   "source": [
    "columns = data.columns.tolist()\n",
    "\n",
    "prefixes = sorted(set(col.split('_')[0] for col in columns))\n",
    "\n",
    "# Step 3: Sort the columns within each group (if necessary)\n",
    "ordered_columns = []\n",
    "for prefix in prefixes:\n",
    "    prefix_columns = [col for col in columns if col.startswith(prefix)]\n",
    "    # Here you can implement specific sorting logic if necessary\n",
    "    ordered_columns.extend(sorted(prefix_columns))\n",
    "\n",
    "# Step 4 and 5: Reorganize the DataFrame\n",
    "ordered_data = data[ordered_columns]\n",
    "print(ordered_data)    "
   ]
  },
  {
   "cell_type": "markdown",
   "metadata": {},
   "source": [
    "Now we have the data sorted by the names but the ENSEMBL_ID column is in the middle, so we want it back to the first column"
   ]
  },
  {
   "cell_type": "code",
   "execution_count": 18,
   "metadata": {},
   "outputs": [],
   "source": [
    "column_ens = ordered_data.columns[6]\n",
    "\n",
    "new_col = [column_ens] + [col for col in ordered_data.columns if col != column_ens]\n",
    "ordered_data = ordered_data[new_col]"
   ]
  },
  {
   "cell_type": "code",
   "execution_count": 19,
   "metadata": {},
   "outputs": [],
   "source": [
    "ordered_data.to_excel('Modify_data.xlsx', index=False)"
   ]
  }
 ],
 "metadata": {
  "kernelspec": {
   "display_name": "Python 3",
   "language": "python",
   "name": "python3"
  },
  "language_info": {
   "codemirror_mode": {
    "name": "ipython",
    "version": 3
   },
   "file_extension": ".py",
   "mimetype": "text/x-python",
   "name": "python",
   "nbconvert_exporter": "python",
   "pygments_lexer": "ipython3",
   "version": "3.10.11"
  }
 },
 "nbformat": 4,
 "nbformat_minor": 2
}
